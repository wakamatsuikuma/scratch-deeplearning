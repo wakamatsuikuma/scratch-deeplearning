{
  "nbformat": 4,
  "nbformat_minor": 0,
  "metadata": {
    "colab": {
      "provenance": [],
      "collapsed_sections": [],
      "authorship_tag": "ABX9TyOgx6vE1owo/FLe1T1GQruB",
      "include_colab_link": true
    },
    "kernelspec": {
      "name": "python3",
      "display_name": "Python 3"
    },
    "language_info": {
      "name": "python"
    }
  },
  "cells": [
    {
      "cell_type": "markdown",
      "metadata": {
        "id": "view-in-github",
        "colab_type": "text"
      },
      "source": [
        "<a href=\"https://colab.research.google.com/github/wakamatsuikuma/scratch-deeplearning/blob/main/Ch5.ipynb\" target=\"_parent\"><img src=\"https://colab.research.google.com/assets/colab-badge.svg\" alt=\"Open In Colab\"/></a>"
      ]
    },
    {
      "cell_type": "code",
      "source": [
        "# coding: utf-8\n",
        "\n",
        "import sys, os\n",
        "ｓys.path.append(\"/content/drive/MyDrive/ゼロからつくるディープラーニング\")\n",
        "ｓys.path.append(\"/content/drive/MyDrive/ゼロからつくるディープラーニング/dataset\")\n",
        "ｓys.path.append(\"/content/drive/MyDrive/ゼロからつくるディープラーニング/common\")\n",
        "ｓys.path.append(\"/content/drive/MyDrive/ゼロからつくるディープラーニング/Ch4\")\n",
        "\n",
        "import numpy as np\n",
        "from mnist import load_mnist\n",
        "from PIL import Image\n",
        "from IPython.display import display\n",
        "import pickle\n",
        "from functions import sigmoid, softmax\n",
        "from two_layer_net import TwoLayerNet\n",
        "\n",
        "\n",
        "# グーグルコラボなので画像表示はこれ使う\n",
        "def img_show(img):\n",
        "    pil_img = Image.fromarray(np.uint8(img))\n",
        "    display(pil_img)\n",
        "\n",
        "# ファイルをアップロード\n",
        "from google.colab import files\n",
        "uploaded = files.upload()"
      ],
      "metadata": {
        "id": "9_mftZTlDMCN"
      },
      "execution_count": null,
      "outputs": []
    },
    {
      "cell_type": "code",
      "execution_count": null,
      "metadata": {
        "id": "i8WCgYZsN2-y"
      },
      "outputs": [],
      "source": [
        "\"\"\"\n",
        "乗算レイヤの実装\n",
        " 順伝播と逆伝播のメソッドを実装\n",
        "\"\"\"\n",
        "\n",
        "class MulLayer:\n",
        "  # ｘ、ｙの初期化。順伝播時の入力値を保持するため。\n",
        "  def __init__(self):\n",
        "    self.x = None\n",
        "    self.y = None\n",
        "  \n",
        "  def forward(self, x, y):\n",
        "    self.x = x\n",
        "    self.y = y\n",
        "    out = self.x * self.y\n",
        "\n",
        "    return out\n",
        "  \n",
        "  # 微分(dout)に対して\"ひっくり返した値\"をかけて流す\n",
        "  def backward(self, dout):\n",
        "    dx = dout * self.y\n",
        "    dy = dout * self.x\n",
        "\n",
        "    return dx, dy\n",
        "\n",
        "    "
      ]
    },
    {
      "cell_type": "code",
      "source": [
        "\"\"\"\n",
        "りんご2個の買い物　を実装\n",
        "\"\"\"\n",
        "\n",
        "# 入力は単価、個数、消費税\n",
        "apple = 100\n",
        "apple_num = 2\n",
        "tax = 1.1\n",
        "\n",
        "\n",
        "# 各レイヤのインスタンス生成\n",
        "mul_apple_layer = MulLayer()\n",
        "mul_tax_layer = MulLayer()\n",
        "\n",
        "\n",
        "# 価格(順伝播)の計算\n",
        "apple_price = mul_apple_layer.forward(apple, apple_num)\n",
        "total_price = mul_tax_layer.forward(apple_price, tax)\n",
        "\n",
        "print(apple_price, total_price)\n",
        "\n",
        "\n",
        "# 各レイヤの微分(呼び出す順番は順伝播の逆)\n",
        "dtotal_price = 1\n",
        "\n",
        "dapple_price, dtax = mul_tax_layer.backward(dtotal_price)\n",
        "dapple, dapple_num = mul_apple_layer.backward(dapple_price)\n",
        "\n",
        "print(dapple, dapple_num, dtax)"
      ],
      "metadata": {
        "colab": {
          "base_uri": "https://localhost:8080/"
        },
        "id": "xhrLBB34RoE8",
        "outputId": "3a31c8ab-0e39-4102-8242-30cf68734acc"
      },
      "execution_count": null,
      "outputs": [
        {
          "output_type": "stream",
          "name": "stdout",
          "text": [
            "200 220.00000000000003\n",
            "2.2 110.00000000000001 200\n"
          ]
        }
      ]
    },
    {
      "cell_type": "code",
      "source": [
        "\"\"\"\n",
        "加算レイヤの実装\n",
        "\"\"\"\n",
        "\n",
        "class AddLayer:\n",
        "  # インスタンス生成。保持する必要のある値は無い。\n",
        "  def __init__(self):\n",
        "    pass\n",
        "  \n",
        "  # 順伝播\n",
        "  def forward(self, x, y):\n",
        "    out = x + y\n",
        "\n",
        "    return out\n",
        "\n",
        "  # 逆伝播\n",
        "  def backward(self, dout):\n",
        "    dx = dout * 1\n",
        "    dy = dout * 1\n",
        "    \n",
        "    return dx, dy\n"
      ],
      "metadata": {
        "id": "yl-QjVetRoHb"
      },
      "execution_count": null,
      "outputs": []
    },
    {
      "cell_type": "code",
      "source": [
        "\"\"\"\n",
        "りんご2個とみかん3個の買い物\n",
        "\"\"\"\n",
        "# 入力値\n",
        "apple = 100\n",
        "apple_num = 2\n",
        "orange = 150\n",
        "orange_num = 3\n",
        "tax = 1.1\n",
        "\n",
        "# 各レイヤのインスタンス生成\n",
        "mul_apple_layer = MulLayer()\n",
        "mul_orange_layer = MulLayer()\n",
        "add_apple_orange_layer = AddLayer()\n",
        "mul_tax_layer = MulLayer()\n",
        "\n",
        "\n",
        "# 価格を計算 = 順伝播\n",
        "apple_price = mul_apple_layer.forward(apple, apple_num)\n",
        "orange_price = mul_orange_layer.forward(orange, orange_num)\n",
        "add_price = add_apple_orange_layer.forward(apple_price, orange_price)\n",
        "total_price = mul_tax_layer.forward(add_price, tax)\n",
        "\n",
        "print(apple_price, orange_price, add_price, total_price)\n",
        "\n",
        "\n",
        "# 各入力の微分を計算 = 逆伝播\n",
        "dtotal_price = 1\n",
        "\n",
        "dadd_price, dtax = mul_tax_layer.backward(dtotal_price)\n",
        "dapple_price, dorange_price = add_apple_orange_layer.backward(dadd_price)\n",
        "dorange, dorange_num = mul_orange_layer.backward(dorange_price)\n",
        "dapple, dapple_num = mul_apple_layer.backward(dapple_price)\n",
        "\n",
        "print(\"total_price:\", int(total_price))\n",
        "print(\"dApple:\", dapple)\n",
        "print(\"dApple_num:\", int(dapple_num))\n",
        "print(\"dOrange:\", dorange)\n",
        "print(\"dOrange_num:\", int(dorange_num))\n",
        "print(\"dTax:\", dtax)\n"
      ],
      "metadata": {
        "colab": {
          "base_uri": "https://localhost:8080/"
        },
        "id": "iX489CagRoJl",
        "outputId": "ce4637f0-d55c-4e6c-bd62-d36d0d58b5a8"
      },
      "execution_count": null,
      "outputs": [
        {
          "output_type": "stream",
          "name": "stdout",
          "text": [
            "200 450 650 715.0000000000001\n",
            "total_price: 715\n",
            "dApple: 2.2\n",
            "dApple_num: 110\n",
            "dOrange: 3.3000000000000003\n",
            "dOrange_num: 165\n",
            "dTax: 650\n"
          ]
        }
      ]
    },
    {
      "cell_type": "code",
      "source": [
        "\"\"\"\n",
        "sigmoidレイヤの実装\n",
        "\"\"\"\n",
        "import numpy as np\n",
        "\n",
        "class Sigmoid:\n",
        "  \n",
        "  def __init__(self):\n",
        "    self.out = None\n",
        "\n",
        "  def forward(self, x):\n",
        "    out = 1 / (1 + np.exp(-x))\n",
        "    self.out = out # 逆伝播時に使うので、インスタンス変数に保持\n",
        "\n",
        "    return out\n",
        "  \n",
        "  def backward(self, dout):\n",
        "    dx = dout * sef.out * (1.0 - self.out)\n",
        "\n",
        "    return dx\n"
      ],
      "metadata": {
        "id": "QOQKHAsQRoLq"
      },
      "execution_count": null,
      "outputs": []
    },
    {
      "cell_type": "code",
      "source": [
        "\"\"\"\n",
        "Affine変換の実装\n",
        "\"\"\"\n",
        "import numpy as np\n",
        "\n",
        "class Affine:\n",
        "  def __init__(self, W, b):\n",
        "    self.W = W\n",
        "    self.b = b\n",
        "    self.x = None\n",
        "    self.original_x_shape = None # テンソル対応のため形状を保持\n",
        "\n",
        "    self.dw = None\n",
        "    self.db = None\n",
        "\n",
        "  def forward(self, x):\n",
        "    self.original_x_shape = x.shape\n",
        "    x = x.reshape(x.shape[0], -1)\n",
        "    self.x = x\n",
        "    out = np.dot(self.x, self.w) + self.b\n",
        "    \n",
        "    return out\n",
        "\n",
        "\n",
        "  def backward(self, dout):\n",
        "    dx = np.dot(dout, self.W.T)\n",
        "    dx = dx.reshape(*self.original_x_shape) # 入力データの形状に戻す(テンソル対応)\n",
        "\n",
        "    self.dW = np.dot(self.x.T, dout)\n",
        "    self.db = np.sum(dout, axis=0)\n",
        "\n",
        "    retutn dx\n",
        "    "
      ],
      "metadata": {
        "id": "IV1IzmLPRoNy"
      },
      "execution_count": null,
      "outputs": []
    },
    {
      "cell_type": "code",
      "source": [],
      "metadata": {
        "id": "QrXiI2wlRoP3"
      },
      "execution_count": null,
      "outputs": []
    },
    {
      "cell_type": "code",
      "source": [],
      "metadata": {
        "id": "LVlHgX0ZiK06"
      },
      "execution_count": null,
      "outputs": []
    },
    {
      "cell_type": "code",
      "source": [],
      "metadata": {
        "id": "_6OZwmVJiK6V"
      },
      "execution_count": null,
      "outputs": []
    },
    {
      "cell_type": "code",
      "source": [],
      "metadata": {
        "id": "Q3KQuzQXiK9V"
      },
      "execution_count": null,
      "outputs": []
    },
    {
      "cell_type": "code",
      "source": [],
      "metadata": {
        "id": "7gNHHcKIiLAD"
      },
      "execution_count": null,
      "outputs": []
    },
    {
      "cell_type": "code",
      "source": [],
      "metadata": {
        "id": "WHrCi4FIiLCp"
      },
      "execution_count": null,
      "outputs": []
    },
    {
      "cell_type": "code",
      "source": [],
      "metadata": {
        "id": "te3raztWiLFQ"
      },
      "execution_count": null,
      "outputs": []
    },
    {
      "cell_type": "code",
      "source": [],
      "metadata": {
        "id": "zwj7L4dIiLHn"
      },
      "execution_count": null,
      "outputs": []
    }
  ]
}