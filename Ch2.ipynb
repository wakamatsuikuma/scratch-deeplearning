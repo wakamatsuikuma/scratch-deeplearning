{
  "nbformat": 4,
  "nbformat_minor": 0,
  "metadata": {
    "colab": {
      "provenance": [],
      "authorship_tag": "ABX9TyORNYFAB7/fOA5lMex1PeGc",
      "include_colab_link": true
    },
    "kernelspec": {
      "name": "python3",
      "display_name": "Python 3"
    },
    "language_info": {
      "name": "python"
    }
  },
  "cells": [
    {
      "cell_type": "markdown",
      "metadata": {
        "id": "view-in-github",
        "colab_type": "text"
      },
      "source": [
        "<a href=\"https://colab.research.google.com/github/wakamatsuikuma/scratch-deeplearning/blob/main/Ch2.ipynb\" target=\"_parent\"><img src=\"https://colab.research.google.com/assets/colab-badge.svg\" alt=\"Open In Colab\"/></a>"
      ]
    },
    {
      "cell_type": "code",
      "execution_count": 1,
      "metadata": {
        "colab": {
          "base_uri": "https://localhost:8080/"
        },
        "id": "HMeercxGxAI9",
        "outputId": "0dc3b241-09cc-415f-d2bd-e7d9037b4ea9"
      },
      "outputs": [
        {
          "output_type": "stream",
          "name": "stdout",
          "text": [
            "0 0 0 1\n",
            "1 1 1 0\n",
            "0 1 1 1\n"
          ]
        }
      ],
      "source": [
        "# ANDの実装\n",
        "def AND(x1, x2):\n",
        "\tw1, w2, theta = 0.5, 0.5, 0.7\n",
        "\ttmp_perceptron = w1*x1 + w2*x2 \n",
        "\tif tmp_perceptron <= theta:\n",
        "\t\treturn 0\n",
        "\telif tmp_perceptron > theta:\n",
        "\t\treturn 1\n",
        "\n",
        "# NANDの実装\n",
        "def NAND(x1, x2):\n",
        "\tw1, w2, theta = -0.5, -0.5, -0.7\n",
        "\ttmp_perceptron = w1*x1 + w2*x2 \n",
        "\tif tmp_perceptron <= theta:\n",
        "\t\treturn 0\n",
        "\telif tmp_perceptron > theta:\n",
        "\t\treturn 1\n",
        "\n",
        "# ORの実装\n",
        "def OR(x1, x2):\n",
        "\tw1, w2, theta = 0.5, 0.5, 0\n",
        "\ttmp_perceptron = w1*x1 + w2*x2 \n",
        "\tif tmp_perceptron <= theta:\n",
        "\t\treturn 0\n",
        "\telif tmp_perceptron > theta:\n",
        "\t\treturn 1\n",
        "\n",
        "# AND確認\n",
        "print(\n",
        "AND(0, 0),\n",
        "AND(1, 0),\n",
        "AND(0, 1),\n",
        "AND(1, 1))\n",
        "\n",
        "# NAND確認\n",
        "print(\n",
        "NAND(0, 0),\n",
        "NAND(1, 0),\n",
        "NAND(0, 1),\n",
        "NAND(1, 1))\n",
        "\n",
        "# OR確認\n",
        "print(\n",
        "OR(0, 0),\n",
        "OR(1, 0),\n",
        "OR(0, 1),\n",
        "OR(1, 1))"
      ]
    },
    {
      "cell_type": "code",
      "source": [
        "\n",
        "\"\"\"\n",
        "上記をバイアスと重みにより動作する形とする\n",
        "\"\"\"\n",
        "import numpy as np\n",
        "\n",
        "# ANDの実装\n",
        "def AND(x1, x2):\n",
        "\tx = np.array([x1, x2])\n",
        "\tw = np.array([0.5, 0.5])\n",
        "\tb = -0.7\n",
        "\ttmp_perceptron = (x*w).sum() + b \n",
        "\tif tmp_perceptron <= 0:\n",
        "\t\treturn 0\n",
        "\telif tmp_perceptron > 0:\n",
        "\t\treturn 1\n",
        "\n",
        "# NANDの実装\n",
        "def NAND(x1, x2):\n",
        "\tx = np.array([x1, x2])\n",
        "\tw = np.array([-0.5, -0.5])\n",
        "\tb = 0.7\n",
        "\ttmp_perceptron = (x*w).sum() + b \n",
        "\tif tmp_perceptron <= 0:\n",
        "\t\treturn 0\n",
        "\telif tmp_perceptron > 0:\n",
        "\t\treturn 1\n",
        "\n",
        "# ORの実装\n",
        "def OR(x1, x2):\n",
        "\tx = np.array([x1, x2])\n",
        "\tw = np.array([0.5, 0.5])\n",
        "\tb = 0\n",
        "\ttmp_perceptron = (x*w).sum() + b \n",
        "\tif tmp_perceptron <= 0:\n",
        "\t\treturn 0\n",
        "\telif tmp_perceptron > 0:\n",
        "\t\treturn 1\n",
        "\n",
        "# AND確認\n",
        "print(\n",
        "AND(0, 0),\n",
        "AND(1, 0),\n",
        "AND(0, 1),\n",
        "AND(1, 1))\n",
        "\n",
        "# NAND確認\n",
        "print(\n",
        "NAND(0, 0),\n",
        "NAND(1, 0),\n",
        "NAND(0, 1),\n",
        "NAND(1, 1))\n",
        "\n",
        "# OR確認\n",
        "print(\n",
        "OR(0, 0),\n",
        "OR(1, 0),\n",
        "OR(0, 1),\n",
        "OR(1, 1))\n"
      ],
      "metadata": {
        "colab": {
          "base_uri": "https://localhost:8080/"
        },
        "id": "a3LJdZlJ3VDw",
        "outputId": "5dc27238-2bb7-4304-c62c-c26f521c59b6"
      },
      "execution_count": 2,
      "outputs": [
        {
          "output_type": "stream",
          "name": "stdout",
          "text": [
            "0 0 0 1\n",
            "1 1 1 0\n",
            "0 1 1 1\n"
          ]
        }
      ]
    },
    {
      "cell_type": "code",
      "source": [
        "\"\"\"\n",
        "XORの実装\n",
        "\"\"\"\n",
        "import numpy as np\n",
        "\n",
        "# ANDの実装\n",
        "def AND(x1, x2):\n",
        "\tx = np.array([x1, x2])\n",
        "\tw = np.array([0.5, 0.5])\n",
        "\tb = -0.7\n",
        "\ttmp_perceptron = (x*w).sum() + b \n",
        "\tif tmp_perceptron <= 0:\n",
        "\t\treturn 0\n",
        "\telif tmp_perceptron > 0:\n",
        "\t\treturn 1\n",
        "\n",
        "# NANDの実装\n",
        "def NAND(x1, x2):\n",
        "\tx = np.array([x1, x2])\n",
        "\tw = np.array([-0.5, -0.5])\n",
        "\tb = 0.7\n",
        "\ttmp_perceptron = (x*w).sum() + b \n",
        "\tif tmp_perceptron <= 0:\n",
        "\t\treturn 0\n",
        "\telif tmp_perceptron > 0:\n",
        "\t\treturn 1\n",
        "\n",
        "# ORの実装\n",
        "def OR(x1, x2):\n",
        "\tx = np.array([x1, x2])\n",
        "\tw = np.array([0.5, 0.5])\n",
        "\tb = 0\n",
        "\ttmp_perceptron = (x*w).sum() + b \n",
        "\tif tmp_perceptron <= 0:\n",
        "\t\treturn 0\n",
        "\telif tmp_perceptron > 0:\n",
        "\t\treturn 1\n",
        "\n",
        "# XORの実装\n",
        "def XOR(x1, x2):\n",
        "\tNAND_input = NAND(x1, x2)\n",
        "\tOR_input = OR(x1, x2)\n",
        "\toutput = AND(NAND_input, OR_input)\n",
        "\treturn output\n",
        "\n",
        "# XOR確認\n",
        "print(\n",
        "OR(0, 0),\n",
        "OR(1, 0),\n",
        "OR(0, 1),\n",
        "OR(1, 1))\n"
      ],
      "metadata": {
        "colab": {
          "base_uri": "https://localhost:8080/"
        },
        "id": "wL5XSV6B3cdu",
        "outputId": "096d9b04-b538-4819-d0a6-f9cec21a16c0"
      },
      "execution_count": 3,
      "outputs": [
        {
          "output_type": "stream",
          "name": "stdout",
          "text": [
            "0 1 1 1\n"
          ]
        }
      ]
    },
    {
      "cell_type": "code",
      "source": [],
      "metadata": {
        "id": "suou7hNC3y1s"
      },
      "execution_count": null,
      "outputs": []
    }
  ]
}